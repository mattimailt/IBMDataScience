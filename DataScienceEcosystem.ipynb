{
 "cells": [
  {
   "cell_type": "markdown",
   "id": "0307cea1-c9cb-4e40-a086-c2d46fb41586",
   "metadata": {},
   "source": [
    "# Data Science Tools and Ecosystem"
   ]
  },
  {
   "cell_type": "markdown",
   "id": "15d6cb15-0b37-46ec-802d-80c60db1d711",
   "metadata": {},
   "source": [
    "In this notebook, data science tools and ecosystem are summarized."
   ]
  },
  {
   "cell_type": "markdown",
   "id": "ee7d038b-8cf3-4c45-b04c-83ed7d2d5bb9",
   "metadata": {},
   "source": [
    "**Objectives:**\n",
    "- List popular languages for data science\n",
    "- List commonly used libraries used by data scientists\n",
    "- List commonly used data science tools\n",
    "- Showing how comments are used in code cells to explain the code (e.g. arithmetic expressions)"
   ]
  },
  {
   "cell_type": "markdown",
   "id": "a81a6250-bb4e-446a-8ac6-540f7f204ece",
   "metadata": {},
   "source": [
    "Some of the popular languages that data scientists use are:\n",
    "1. Python\n",
    "2. R\n",
    "3. SQL"
   ]
  },
  {
   "cell_type": "markdown",
   "id": "111c2132-e8df-4ffb-8f64-9f2a3a7d03e4",
   "metadata": {},
   "source": [
    "Some of the commonly used libraries used by data scientists include:\n",
    "1. Numpy\n",
    "2. Panda\n",
    "3. Matplotlib"
   ]
  },
  {
   "cell_type": "markdown",
   "id": "45a0b54f-1754-4a58-8440-e1731c364912",
   "metadata": {},
   "source": [
    "|Data Science Tools|\n",
    "|:--:|\n",
    "|Jupyter Notebook|\n",
    "|RStudio|\n",
    "|VS Code|"
   ]
  },
  {
   "cell_type": "markdown",
   "id": "40231f15-4053-431f-8074-bf36d0bf35fc",
   "metadata": {},
   "source": [
    "Below are a few examples of evaluating arithmetic expressions in Python."
   ]
  },
  {
   "cell_type": "code",
   "execution_count": 1,
   "id": "47263a98-265e-40ba-bd09-0ec265118b2f",
   "metadata": {},
   "outputs": [
    {
     "data": {
      "text/plain": [
       "17"
      ]
     },
     "execution_count": 1,
     "metadata": {},
     "output_type": "execute_result"
    }
   ],
   "source": [
    "# This a simple arithmetic expression to multiply and then add integers\n",
    "(3*4)+5"
   ]
  },
  {
   "cell_type": "code",
   "execution_count": 4,
   "id": "8c0964bc-18f3-4a10-b3ae-4d24f08ac68a",
   "metadata": {},
   "outputs": [
    {
     "name": "stdout",
     "output_type": "stream",
     "text": [
      "3.3333333333333335\n"
     ]
    }
   ],
   "source": [
    "# This will convert 200 minutes to hours by diving by 60\n",
    "h = 200/60\n",
    "print(h)"
   ]
  },
  {
   "cell_type": "markdown",
   "id": "e79b7785-64ee-47f8-abaf-b5299622d9d0",
   "metadata": {},
   "source": [
    "## Author\n",
    "Matthias Doyscher"
   ]
  },
  {
   "cell_type": "code",
   "execution_count": null,
   "id": "a88b4398-5c6e-4531-a57b-a57af2434f77",
   "metadata": {},
   "outputs": [],
   "source": []
  }
 ],
 "metadata": {
  "kernelspec": {
   "display_name": "Python 3 (ipykernel)",
   "language": "python",
   "name": "python3"
  },
  "language_info": {
   "codemirror_mode": {
    "name": "ipython",
    "version": 3
   },
   "file_extension": ".py",
   "mimetype": "text/x-python",
   "name": "python",
   "nbconvert_exporter": "python",
   "pygments_lexer": "ipython3",
   "version": "3.11.9"
  }
 },
 "nbformat": 4,
 "nbformat_minor": 5
}
